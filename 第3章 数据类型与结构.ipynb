{
 "cells": [
  {
   "cell_type": "code",
   "execution_count": 1,
   "id": "a4e02ad1-371d-4ed4-8295-41bd72c5ec94",
   "metadata": {},
   "outputs": [
    {
     "data": {
      "text/plain": [
       "int"
      ]
     },
     "execution_count": 1,
     "metadata": {},
     "output_type": "execute_result"
    }
   ],
   "source": [
    "a = 10\n",
    "type(a)"
   ]
  },
  {
   "cell_type": "code",
   "execution_count": 2,
   "id": "63e10580-7c6e-45fe-9667-f61955ff4892",
   "metadata": {},
   "outputs": [
    {
     "data": {
      "text/plain": [
       "4"
      ]
     },
     "execution_count": 2,
     "metadata": {},
     "output_type": "execute_result"
    }
   ],
   "source": [
    "# 内建方法\n",
    "a.bit_length()"
   ]
  },
  {
   "cell_type": "code",
   "execution_count": 3,
   "id": "01fa92d4-dd88-4a08-ba36-6adde7965878",
   "metadata": {},
   "outputs": [
    {
     "data": {
      "text/plain": [
       "Context(prec=28, rounding=ROUND_HALF_EVEN, Emin=-999999, Emax=999999, capitals=1, clamp=0, flags=[], traps=[InvalidOperation, DivisionByZero, Overflow])"
      ]
     },
     "execution_count": 3,
     "metadata": {},
     "output_type": "execute_result"
    }
   ],
   "source": [
    "import decimal\n",
    "from decimal import Decimal\n",
    "decimal.getcontext()"
   ]
  },
  {
   "cell_type": "code",
   "execution_count": 4,
   "id": "b4e8b383-5d18-4c85-b72a-abfdf4450d44",
   "metadata": {},
   "outputs": [
    {
     "data": {
      "text/plain": [
       "Decimal('0.09090909090909090909090909091')"
      ]
     },
     "execution_count": 4,
     "metadata": {},
     "output_type": "execute_result"
    }
   ],
   "source": [
    "d=Decimal(1)/Decimal(11)\n",
    "d"
   ]
  },
  {
   "cell_type": "code",
   "execution_count": 5,
   "id": "fa70a668-6acd-4f50-b7a3-3b9fc8b77c7c",
   "metadata": {},
   "outputs": [],
   "source": [
    "decimal.getcontext().prec=4"
   ]
  },
  {
   "cell_type": "code",
   "execution_count": 6,
   "id": "1e08bdef-87c7-4502-9fd6-0806cdc4482c",
   "metadata": {},
   "outputs": [
    {
     "data": {
      "text/plain": [
       "Decimal('0.09091')"
      ]
     },
     "execution_count": 6,
     "metadata": {},
     "output_type": "execute_result"
    }
   ],
   "source": [
    "e=Decimal(1)/Decimal(11)\n",
    "e"
   ]
  },
  {
   "cell_type": "code",
   "execution_count": 7,
   "id": "9ce9692d-a1d5-4bba-94fc-fb350f63f77e",
   "metadata": {},
   "outputs": [],
   "source": [
    "decimal.getcontext().prec=50"
   ]
  },
  {
   "cell_type": "code",
   "execution_count": 8,
   "id": "8e2f6e89-fda2-4f8c-9587-d00800a42bae",
   "metadata": {},
   "outputs": [
    {
     "data": {
      "text/plain": [
       "Decimal('0.090909090909090909090909090909090909090909090909091')"
      ]
     },
     "execution_count": 8,
     "metadata": {},
     "output_type": "execute_result"
    }
   ],
   "source": [
    "f=Decimal(1)/Decimal(11)\n",
    "f"
   ]
  },
  {
   "cell_type": "code",
   "execution_count": 9,
   "id": "e94533a9-ce6d-4989-b910-a784dc39d1c2",
   "metadata": {},
   "outputs": [
    {
     "data": {
      "text/plain": [
       "Decimal('0.27272818181818181818181818181909090909090909090909')"
      ]
     },
     "execution_count": 9,
     "metadata": {},
     "output_type": "execute_result"
    }
   ],
   "source": [
    "g=d+e+f\n",
    "g"
   ]
  },
  {
   "cell_type": "code",
   "execution_count": 10,
   "id": "ce3275b3-2e29-41d7-bf78-8fb9b831e32c",
   "metadata": {},
   "outputs": [
    {
     "data": {
      "text/plain": [
       "['False',\n",
       " 'None',\n",
       " 'True',\n",
       " 'and',\n",
       " 'as',\n",
       " 'assert',\n",
       " 'async',\n",
       " 'await',\n",
       " 'break',\n",
       " 'class',\n",
       " 'continue',\n",
       " 'def',\n",
       " 'del',\n",
       " 'elif',\n",
       " 'else',\n",
       " 'except',\n",
       " 'finally',\n",
       " 'for',\n",
       " 'from',\n",
       " 'global',\n",
       " 'if',\n",
       " 'import',\n",
       " 'in',\n",
       " 'is',\n",
       " 'lambda',\n",
       " 'nonlocal',\n",
       " 'not',\n",
       " 'or',\n",
       " 'pass',\n",
       " 'raise',\n",
       " 'return',\n",
       " 'try',\n",
       " 'while',\n",
       " 'with',\n",
       " 'yield']"
      ]
     },
     "execution_count": 10,
     "metadata": {},
     "output_type": "execute_result"
    }
   ],
   "source": [
    "import keyword\n",
    "keyword.kwlist"
   ]
  },
  {
   "cell_type": "code",
   "execution_count": 11,
   "id": "8400ce49-d40d-497c-90a1-2c20f24797bf",
   "metadata": {},
   "outputs": [
    {
     "data": {
      "text/plain": [
       "True"
      ]
     },
     "execution_count": 11,
     "metadata": {},
     "output_type": "execute_result"
    }
   ],
   "source": [
    "4>3"
   ]
  },
  {
   "cell_type": "code",
   "execution_count": 12,
   "id": "ab671ed9-96d5-431a-8823-7431ba2614c9",
   "metadata": {},
   "outputs": [
    {
     "data": {
      "text/plain": [
       "bool"
      ]
     },
     "execution_count": 12,
     "metadata": {},
     "output_type": "execute_result"
    }
   ],
   "source": [
    "type(4>3)"
   ]
  },
  {
   "cell_type": "code",
   "execution_count": 13,
   "id": "7f8c817c-0f6f-4635-803c-a91982ae9a78",
   "metadata": {},
   "outputs": [
    {
     "data": {
      "text/plain": [
       "False"
      ]
     },
     "execution_count": 13,
     "metadata": {},
     "output_type": "execute_result"
    }
   ],
   "source": [
    "True and False"
   ]
  },
  {
   "cell_type": "code",
   "execution_count": 14,
   "id": "4eb1c910-707d-49ae-9cf7-6c0bc569def5",
   "metadata": {},
   "outputs": [
    {
     "data": {
      "text/plain": [
       "True"
      ]
     },
     "execution_count": 14,
     "metadata": {},
     "output_type": "execute_result"
    }
   ],
   "source": [
    "(4==3) or (2!=3)"
   ]
  },
  {
   "cell_type": "code",
   "execution_count": 15,
   "id": "ef3ad903-24e1-4e7b-871c-d9fa9f0b32f4",
   "metadata": {},
   "outputs": [
    {
     "data": {
      "text/plain": [
       "True"
      ]
     },
     "execution_count": 15,
     "metadata": {},
     "output_type": "execute_result"
    }
   ],
   "source": [
    "not (4!=4)"
   ]
  },
  {
   "cell_type": "code",
   "execution_count": 16,
   "id": "855d62ae-c529-408b-9abf-aa9914f46dfe",
   "metadata": {},
   "outputs": [
    {
     "name": "stdout",
     "output_type": "stream",
     "text": [
      "condition true\n"
     ]
    }
   ],
   "source": [
    "if 4>3:\n",
    "    print ('condition true')"
   ]
  },
  {
   "cell_type": "code",
   "execution_count": 17,
   "id": "e51cb584-1d41-417f-bfc4-df87711ae1ff",
   "metadata": {},
   "outputs": [
    {
     "name": "stdout",
     "output_type": "stream",
     "text": [
      "i=0\n",
      "i=1\n",
      "i=2\n",
      "i=3\n"
     ]
    }
   ],
   "source": [
    "i=0\n",
    "while i<4:\n",
    "    print (f\"i={i}\")\n",
    "    i+=1"
   ]
  },
  {
   "cell_type": "code",
   "execution_count": 18,
   "id": "137cc997-985f-4954-b79a-7b448e22a177",
   "metadata": {},
   "outputs": [
    {
     "data": {
      "text/plain": [
       "1"
      ]
     },
     "execution_count": 18,
     "metadata": {},
     "output_type": "execute_result"
    }
   ],
   "source": [
    "int (True)"
   ]
  },
  {
   "cell_type": "code",
   "execution_count": 19,
   "id": "d2167626-a198-459c-915a-e4288951fe48",
   "metadata": {},
   "outputs": [
    {
     "data": {
      "text/plain": [
       "0.0"
      ]
     },
     "execution_count": 19,
     "metadata": {},
     "output_type": "execute_result"
    }
   ],
   "source": [
    "float (False)"
   ]
  },
  {
   "cell_type": "code",
   "execution_count": 20,
   "id": "5385a387-2af9-4333-a3a0-e8edc222e5eb",
   "metadata": {},
   "outputs": [
    {
     "data": {
      "text/plain": [
       "False"
      ]
     },
     "execution_count": 20,
     "metadata": {},
     "output_type": "execute_result"
    }
   ],
   "source": [
    "bool (0.0)"
   ]
  },
  {
   "cell_type": "code",
   "execution_count": 21,
   "id": "45da1bf3-7048-4353-8a48-232f004db53c",
   "metadata": {},
   "outputs": [
    {
     "data": {
      "text/plain": [
       "True"
      ]
     },
     "execution_count": 21,
     "metadata": {},
     "output_type": "execute_result"
    }
   ],
   "source": [
    "bool (0.5)"
   ]
  },
  {
   "cell_type": "code",
   "execution_count": 22,
   "id": "fe2a4f28-111d-4153-82d3-2f806587e082",
   "metadata": {},
   "outputs": [],
   "source": [
    "t='this is a string object'"
   ]
  },
  {
   "cell_type": "code",
   "execution_count": 23,
   "id": "cae944a4-08ef-4f82-b246-854292dd121d",
   "metadata": {},
   "outputs": [
    {
     "data": {
      "text/plain": [
       "'This is a string object'"
      ]
     },
     "execution_count": 23,
     "metadata": {},
     "output_type": "execute_result"
    }
   ],
   "source": [
    "t.capitalize()"
   ]
  },
  {
   "cell_type": "code",
   "execution_count": 24,
   "id": "2efe0ea6-7592-45e4-bbdb-6964a9893eed",
   "metadata": {},
   "outputs": [
    {
     "data": {
      "text/plain": [
       "['this', 'is', 'a', 'string', 'object']"
      ]
     },
     "execution_count": 24,
     "metadata": {},
     "output_type": "execute_result"
    }
   ],
   "source": [
    "t.split()"
   ]
  },
  {
   "cell_type": "code",
   "execution_count": 25,
   "id": "25dbe06a-a505-485d-a2e9-7a724ef53dfd",
   "metadata": {},
   "outputs": [
    {
     "data": {
      "text/plain": [
       "10"
      ]
     },
     "execution_count": 25,
     "metadata": {},
     "output_type": "execute_result"
    }
   ],
   "source": [
    "t.find('string')"
   ]
  },
  {
   "cell_type": "code",
   "execution_count": 26,
   "id": "3d643de1-5035-4640-85d7-b16cdee0ca15",
   "metadata": {},
   "outputs": [
    {
     "data": {
      "text/plain": [
       "-1"
      ]
     },
     "execution_count": 26,
     "metadata": {},
     "output_type": "execute_result"
    }
   ],
   "source": [
    "t.find('Python')"
   ]
  },
  {
   "cell_type": "code",
   "execution_count": 27,
   "id": "0424fe31-743e-4910-98a7-15de814cd963",
   "metadata": {},
   "outputs": [
    {
     "data": {
      "text/plain": [
       "'this|is|a|string|object'"
      ]
     },
     "execution_count": 27,
     "metadata": {},
     "output_type": "execute_result"
    }
   ],
   "source": [
    "t.replace(' ','|')"
   ]
  },
  {
   "cell_type": "code",
   "execution_count": 28,
   "id": "9d93af72-f98d-48c2-8a2f-20ef5ed2f7eb",
   "metadata": {},
   "outputs": [
    {
     "data": {
      "text/plain": [
       "'www.python.o'"
      ]
     },
     "execution_count": 28,
     "metadata": {},
     "output_type": "execute_result"
    }
   ],
   "source": [
    "'t:ttp://www.python.o/p'.strip('htp:/')"
   ]
  },
  {
   "cell_type": "code",
   "execution_count": 29,
   "id": "a56d67dc-d46e-49bd-8f42-8b350da377ed",
   "metadata": {},
   "outputs": [
    {
     "name": "stdout",
     "output_type": "stream",
     "text": [
      "Python for Finance\n"
     ]
    }
   ],
   "source": [
    "print ('Python for Finance')"
   ]
  },
  {
   "cell_type": "code",
   "execution_count": 30,
   "id": "5d8432bb-9056-4c14-b915-264208fbef7c",
   "metadata": {},
   "outputs": [
    {
     "name": "stdout",
     "output_type": "stream",
     "text": [
      "this is a string object\n"
     ]
    }
   ],
   "source": [
    "print (t)"
   ]
  },
  {
   "cell_type": "code",
   "execution_count": 31,
   "id": "c4ac8316-87a5-4f8f-ae93-99847aed6a53",
   "metadata": {},
   "outputs": [
    {
     "name": "stdout",
     "output_type": "stream",
     "text": [
      "0\n",
      "1\n",
      "2\n",
      "3\n"
     ]
    }
   ],
   "source": [
    "i=0\n",
    "while i<4:\n",
    "    print (i)\n",
    "    i+=1"
   ]
  },
  {
   "cell_type": "code",
   "execution_count": 32,
   "id": "d9c1b5d4-ccad-4ce6-bcb5-dea0e72f25ee",
   "metadata": {},
   "outputs": [
    {
     "name": "stdout",
     "output_type": "stream",
     "text": [
      "0|1|2|3|"
     ]
    }
   ],
   "source": [
    "i=0\n",
    "while i<4:\n",
    "    print (i,end='|')\n",
    "    i+=1"
   ]
  },
  {
   "cell_type": "code",
   "execution_count": 33,
   "id": "0f81aba6-a690-4710-9740-e0364bcb8cff",
   "metadata": {},
   "outputs": [
    {
     "name": "stdout",
     "output_type": "stream",
     "text": [
      "I am 30 years old.\n",
      "Number:     7\n",
      "Number: 7    .\n",
      "Number: 00007\n"
     ]
    }
   ],
   "source": [
    "# 基本用法\n",
    "age = 30\n",
    "print(\"I am %d years old.\" % age)\n",
    "\n",
    "# 设置宽度，右对齐\n",
    "number = 7\n",
    "print(\"Number: %5d\" % number)  # 输出: 'Number:     7'\n",
    "\n",
    "# 设置宽度，左对齐\n",
    "print(\"Number: %-5d.\" % number)  # 输出: 'Number: 7    .'\n",
    "\n",
    "# 零填充，不支持0以外填充\n",
    "print(\"Number: %05d\" % number)  # 输出: 'Number: 00007'\n"
   ]
  },
  {
   "cell_type": "code",
   "execution_count": 34,
   "id": "ef37ad82-a7ae-4096-8d4f-8e05590cf69f",
   "metadata": {},
   "outputs": [
    {
     "name": "stdout",
     "output_type": "stream",
     "text": [
      "Pi is approximately 3.141590\n",
      "Pi is approximately 3.14\n",
      "Pi:     3.14\n",
      "Pi: 00003.14\n",
      "Pi: 3.14    \n"
     ]
    }
   ],
   "source": [
    "# 基本用法\n",
    "pi = 3.14159\n",
    "print(\"Pi is approximately %f\" % pi)\n",
    "\n",
    "# 指定小数点后的位数\n",
    "print(\"Pi is approximately %.2f\" % pi)  \n",
    "\n",
    "# 指定总宽度和小数点位数\n",
    "print(\"Pi: %8.2f\" % pi)  \n",
    "\n",
    "# 使用零填充和指定小数位\n",
    "print(\"Pi: %08.2f\" % pi)  \n",
    "\n",
    "# 结合宽度、小数位和左对齐\n",
    "print(\"Pi: %-8.2f\" % pi)  \n"
   ]
  },
  {
   "cell_type": "code",
   "execution_count": 35,
   "id": "db018561-d2a4-4e61-8c3b-8b7948af0fd6",
   "metadata": {},
   "outputs": [
    {
     "name": "stdout",
     "output_type": "stream",
     "text": [
      "Hello, Alice!\n",
      "Number: 123\n",
      "Full name: John Doe\n",
      "Name:      Alice\n",
      "Name: Alice     \n",
      "Hello\n"
     ]
    }
   ],
   "source": [
    "# 基本用法\n",
    "name = \"Alice\"\n",
    "print(\"Hello, %s!\" % name)  # 输出: 'Hello, Alice!'\n",
    "\n",
    "number = 123\n",
    "print(\"Number: %s\" % number)  # 输出: 'Number: 123'\n",
    "\n",
    "# 多个字符串格式化\n",
    "first_name = \"John\"\n",
    "last_name = \"Doe\"\n",
    "print(\"Full name: %s %s\" % (first_name, last_name))  # 输出: 'Full name: John Doe'\n",
    "\n",
    "# 宽度和对齐控制\n",
    "name = \"Alice\"\n",
    "print(\"Name: %10s\" % name)  # 右对齐，宽度为 10，输出: 'Name:      Alice'\n",
    "\n",
    "print(\"Name: %-10s\" % name)  # 左对齐，宽度为 10，输出: 'Name: Alice     '\n",
    "\n",
    "# 字符串截断\n",
    "text = \"Hello, world!\"\n",
    "print(\"%.5s\" % text)  # 输出: 'Hello'\n"
   ]
  },
  {
   "cell_type": "code",
   "execution_count": 36,
   "id": "29f62392-bad6-409e-939f-d7445613eb54",
   "metadata": {},
   "outputs": [
    {
     "name": "stdout",
     "output_type": "stream",
     "text": [
      "Year: 2021, Month: 09, Event: International Conference, Cost: $   1234.57, Duration: 3.50 days\n"
     ]
    }
   ],
   "source": [
    "# %()内的顺序是固定的\n",
    "year = 2021\n",
    "month = 9\n",
    "event = \"International Conference\"\n",
    "cost = 1234.5678\n",
    "duration = 3.5\n",
    "\n",
    "# 格式化字符串\n",
    "formatted_string = \"Year: %04d, Month: %02d, Event: %-15s, Cost: $%10.2f, Duration: %.2f days\" % (year, month, event, cost, duration)\n",
    "\n",
    "# 输出结果\n",
    "print(formatted_string)\n"
   ]
  },
  {
   "cell_type": "code",
   "execution_count": 37,
   "id": "c91cffe2-6caf-4379-b491-2b7702d2016e",
   "metadata": {},
   "outputs": [
    {
     "name": "stdout",
     "output_type": "stream",
     "text": [
      "41\n",
      "<re.Match object; span=(0, 25), match='Hello 123 4567 World_This'>\n",
      "Hello 123 4567 World_This\n",
      "(0, 25)\n"
     ]
    }
   ],
   "source": [
    "import  re\n",
    "content='Hello 123 4567 World_This is a Regex Demo'\n",
    "print (len(content))\n",
    "result=re.match('^Hello\\s\\d{3}\\s\\d{4}\\s\\w{10}',content)\n",
    "print (result)\n",
    "print (result.group())\n",
    "print (result.span())"
   ]
  },
  {
   "cell_type": "code",
   "execution_count": 38,
   "id": "920e3b77-6ed0-4e61-a808-9391faa6f038",
   "metadata": {},
   "outputs": [
    {
     "name": "stdout",
     "output_type": "stream",
     "text": [
      "40\n",
      "<re.Match object; span=(0, 19), match='Hello 1234567 World'>\n",
      "Hello 1234567 World\n",
      "(0, 19)\n",
      "1234567\n",
      "(6, 13)\n"
     ]
    }
   ],
   "source": [
    "import  re\n",
    "content='Hello 1234567 World_This is a Regex Demo'\n",
    "print (len(content))\n",
    "result=re.match('^Hello\\s(\\d+)\\sWorld',content)\n",
    "print (result)\n",
    "print (result.group())\n",
    "print (result.span())\n",
    "print (result.group(1))\n",
    "print (result.span(1))"
   ]
  },
  {
   "cell_type": "code",
   "execution_count": 39,
   "id": "a11e38ab-f665-49bf-bcb9-be6f567fda8d",
   "metadata": {},
   "outputs": [
    {
     "name": "stdout",
     "output_type": "stream",
     "text": [
      "<re.Match object; span=(0, 41), match='Hello 123 4567 World_This is a Regex Demo'>\n",
      "Hello 123 4567 World_This is a Regex Demo\n",
      "(0, 41)\n"
     ]
    }
   ],
   "source": [
    "import  re\n",
    "content='Hello 123 4567 World_This is a Regex Demo'\n",
    "result=re.match('^Hello.*Demo$',content)\n",
    "print (result)\n",
    "print (result.group())\n",
    "print (result.span())"
   ]
  },
  {
   "cell_type": "code",
   "execution_count": 40,
   "id": "d140bfd5-a515-4e52-93fe-dde6e036a10f",
   "metadata": {},
   "outputs": [
    {
     "name": "stdout",
     "output_type": "stream",
     "text": [
      "<re.Match object; span=(0, 40), match='Hello 1234567 World_This is a Regex Demo'>\n",
      "Hello 1234567 World_This is a Regex Demo\n",
      "(0, 40)\n",
      "7\n",
      "(12, 13)\n"
     ]
    }
   ],
   "source": [
    "#贪婪匹配\n",
    "import  re\n",
    "content='Hello 1234567 World_This is a Regex Demo'\n",
    "result=re.match('^Hello.*(\\d+).*Demo$',content)\n",
    "print (result)\n",
    "print (result.group())\n",
    "print (result.span())\n",
    "print (result.group(1))\n",
    "print (result.span(1))"
   ]
  },
  {
   "cell_type": "code",
   "execution_count": 41,
   "id": "f26fd720-4075-4e73-b729-efb7b29611f6",
   "metadata": {},
   "outputs": [
    {
     "name": "stdout",
     "output_type": "stream",
     "text": [
      "<re.Match object; span=(0, 40), match='Hello 1234567 World_This is a Regex Demo'>\n",
      "Hello 1234567 World_This is a Regex Demo\n",
      "(0, 40)\n",
      "1234567\n",
      "(6, 13)\n"
     ]
    }
   ],
   "source": [
    "#非贪婪匹配\n",
    "import  re\n",
    "content='Hello 1234567 World_This is a Regex Demo'\n",
    "result=re.match('^Hello.*?(\\d+).*Demo$',content)\n",
    "print (result)\n",
    "print (result.group())\n",
    "print (result.span())\n",
    "print (result.group(1))\n",
    "print (result.span(1))"
   ]
  },
  {
   "cell_type": "code",
   "execution_count": 42,
   "id": "5efa4e85-dbaf-44f6-8dac-dc5df76bd113",
   "metadata": {},
   "outputs": [
    {
     "name": "stdout",
     "output_type": "stream",
     "text": [
      "result1 http://weibo.com/comment/\n",
      "result1 \n",
      "result2 http://weibo.com/comment/kEraCN\n",
      "result2 kEraCN\n"
     ]
    }
   ],
   "source": [
    "import re \n",
    "content = 'http://weibo.com/comment/kEraCN'\n",
    "result1=re.match('http.*?comment/(.*?)',content)\n",
    "result2=re.match('http.*?comment/(.*)',content)\n",
    "print ('result1',result1.group())\n",
    "print ('result1',result1.group(1))\n",
    "print ('result2',result2.group())\n",
    "print ('result2',result2.group(1))"
   ]
  },
  {
   "cell_type": "code",
   "execution_count": 43,
   "id": "cdcc78af-537f-468c-ad0a-08bebd31e859",
   "metadata": {},
   "outputs": [
    {
     "name": "stdout",
     "output_type": "stream",
     "text": [
      "<re.Match object; span=(0, 40), match='Hello 1234567 World_This\\nis a Regex Demo'>\n",
      "Hello 1234567 World_This\n",
      "is a Regex Demo\n",
      "(0, 40)\n",
      "1234567\n",
      "(6, 13)\n"
     ]
    }
   ],
   "source": [
    "#.不可以匹配转义字符，需要打开re.S修饰符\n",
    "import  re\n",
    "content='''Hello 1234567 World_This\n",
    "is a Regex Demo\n",
    "'''\n",
    "result=re.match('^Hello.*?(\\d+).*Demo$',content,re.S)\n",
    "print (result)\n",
    "print (result.group())\n",
    "print (result.span())\n",
    "print (result.group(1))\n",
    "print (result.span(1))"
   ]
  },
  {
   "cell_type": "code",
   "execution_count": 44,
   "id": "02ec7cdc-8ea1-45d1-b4ba-eaddfd3e287a",
   "metadata": {},
   "outputs": [
    {
     "name": "stdout",
     "output_type": "stream",
     "text": [
      "<re.Match object; span=(0, 17), match='(百度)www.baidu.com'>\n"
     ]
    }
   ],
   "source": [
    "# r处理多个转义字符\n",
    "import re\n",
    "content='(百度)www.baidu.com'\n",
    "result=re.match('\\(百度\\)www.baidu.com',content)\n",
    "print (result)"
   ]
  },
  {
   "cell_type": "code",
   "execution_count": 45,
   "id": "ef95fbf5-8116-4856-8de0-e6bd97acb096",
   "metadata": {},
   "outputs": [
    {
     "name": "stdout",
     "output_type": "stream",
     "text": [
      "Found date: 2024-06-24\n"
     ]
    }
   ],
   "source": [
    "import re\n",
    "\n",
    "text = \"The event will happen on 2024-06-24. Please register before 2024-05-30.\"\n",
    "match = re.search('\\d{4}-\\d{2}-\\d{2}', text)\n",
    "if match:\n",
    "    print(\"Found date:\", match.group())  # 输出找到的日期\n",
    "else:\n",
    "    print(\"No date found\")\n"
   ]
  },
  {
   "cell_type": "code",
   "execution_count": 46,
   "id": "58601488-ea1b-4ad9-992f-4c773751a98e",
   "metadata": {},
   "outputs": [
    {
     "name": "stdout",
     "output_type": "stream",
     "text": [
      "[('<a href=\"http://www.example.com\">Visit Example</a>', 'http://www.example.com', 'Visit Example'), ('<a href=\"http://www.test.com\">Visit Test</a>', 'http://www.test.com', 'Visit Test'), ('<a href=\"https://www.sample.com\">Sample Website</a>', 'https://www.sample.com', 'Sample Website')]\n",
      "Tag: <a href=\"http://www.example.com\">Visit Example</a>\tLink: http://www.example.com\tLink Text: Visit Example\n",
      "\n",
      "Tag: <a href=\"http://www.test.com\">Visit Test</a>\tLink: http://www.test.com\tLink Text: Visit Test\n",
      "\n",
      "Tag: <a href=\"https://www.sample.com\">Sample Website</a>\tLink: https://www.sample.com\tLink Text: Sample Website\n",
      "\n"
     ]
    }
   ],
   "source": [
    "import re\n",
    "\n",
    "html_content = \"\"\"\n",
    "<html>\n",
    "<head>\n",
    "    <title>Sample Page</title>\n",
    "</head>\n",
    "<body>\n",
    "    <h1>Welcome to My Sample Page</h1>\n",
    "    <a href=\"http://www.example.com\">Visit Example</a>\n",
    "    <a href=\"http://www.test.com\">Visit Test</a>\n",
    "    <div>\n",
    "        <a href=\"https://www.sample.com\">Sample Website</a>\n",
    "    </div>\n",
    "</body>\n",
    "</html>\n",
    "\"\"\"\n",
    "\n",
    "# 使用正则表达式查找所有<a>标签及其href属性\n",
    "tags_and_links = re.findall(r'(<a href=\"([^\"]+)\">([^<]+)</a>)', html_content)\n",
    "print (tags_and_links)\n",
    "\n",
    "# 使用循环打印每个标签及其链接\n",
    "for x in tags_and_links:\n",
    "    print(f\"Tag: {x[0]}\",end='\\t')\n",
    "    print(f\"Link: {x[1]}\",end='\\t')\n",
    "    print(f\"Link Text: {x[2]}\")\n",
    "    print()  # 添加一个空行以便分隔输出\n"
   ]
  },
  {
   "cell_type": "code",
   "execution_count": 47,
   "id": "2ece683d-c7c4-4b19-a00b-8319dff08281",
   "metadata": {},
   "outputs": [
    {
     "name": "stdout",
     "output_type": "stream",
     "text": [
      "cqffcvgbdzifzgccsxbfkyrszhec\n"
     ]
    }
   ],
   "source": [
    "import re \n",
    "content='c87q23f493fcvgbdzifzg89237465ccsxbfk3287985yrszhec'\n",
    "content=re.sub('\\d+','',content)\n",
    "print (content)"
   ]
  },
  {
   "cell_type": "code",
   "execution_count": 48,
   "id": "0eb3f025-3359-459f-9f40-1450dec1b89b",
   "metadata": {},
   "outputs": [
    {
     "name": "stdout",
     "output_type": "stream",
     "text": [
      "2019-12-15  2019-12-17  2019-12-22 \n"
     ]
    }
   ],
   "source": [
    "import re\n",
    "content1='2019-12-15 12:00'\n",
    "content2='2019-12-17 12:55'\n",
    "content3='2019-12-22 13:21'\n",
    "pattern=re.compile('\\d{2}:\\d{2}')\n",
    "result1=re.sub(pattern,'',content1)\n",
    "result2=re.sub(pattern,'',content2)\n",
    "result3=re.sub(pattern,'',content3)\n",
    "print (result1,result2,result3)"
   ]
  },
  {
   "cell_type": "code",
   "execution_count": 49,
   "id": "8d0d577d-e6c6-4fbb-950d-c68ee4c62363",
   "metadata": {},
   "outputs": [
    {
     "data": {
      "text/plain": [
       "tuple"
      ]
     },
     "execution_count": 49,
     "metadata": {},
     "output_type": "execute_result"
    }
   ],
   "source": [
    "t=(1,2.5,'data')\n",
    "type(t)"
   ]
  },
  {
   "cell_type": "code",
   "execution_count": 50,
   "id": "3db9d108-35b4-4217-bdcc-2b93a9f5e5a0",
   "metadata": {},
   "outputs": [
    {
     "data": {
      "text/plain": [
       "'data'"
      ]
     },
     "execution_count": 50,
     "metadata": {},
     "output_type": "execute_result"
    }
   ],
   "source": [
    "t[2]"
   ]
  },
  {
   "cell_type": "code",
   "execution_count": 51,
   "id": "3556d6d8-682c-423d-94c2-0850e0a932c4",
   "metadata": {},
   "outputs": [
    {
     "data": {
      "text/plain": [
       "str"
      ]
     },
     "execution_count": 51,
     "metadata": {},
     "output_type": "execute_result"
    }
   ],
   "source": [
    "type(t[2])"
   ]
  },
  {
   "cell_type": "code",
   "execution_count": 52,
   "id": "81223edb-ce3b-4201-8594-53491c10a2e7",
   "metadata": {},
   "outputs": [
    {
     "data": {
      "text/plain": [
       "1"
      ]
     },
     "execution_count": 52,
     "metadata": {},
     "output_type": "execute_result"
    }
   ],
   "source": [
    "# 记频\n",
    "t.count('data')"
   ]
  },
  {
   "cell_type": "code",
   "execution_count": 53,
   "id": "fa48f7cf-9bfb-4589-a33b-d63ff882b276",
   "metadata": {},
   "outputs": [
    {
     "data": {
      "text/plain": [
       "0"
      ]
     },
     "execution_count": 53,
     "metadata": {},
     "output_type": "execute_result"
    }
   ],
   "source": [
    "# 索引\n",
    "t.index(1)"
   ]
  },
  {
   "cell_type": "code",
   "execution_count": 54,
   "id": "a80d72f3-f6cc-4e47-96e3-952f44fe4f34",
   "metadata": {},
   "outputs": [
    {
     "data": {
      "text/plain": [
       "'data'"
      ]
     },
     "execution_count": 54,
     "metadata": {},
     "output_type": "execute_result"
    }
   ],
   "source": [
    "l=[1,2.5,'data']\n",
    "l[2]"
   ]
  },
  {
   "cell_type": "code",
   "execution_count": 55,
   "id": "0d62a0d4-491e-49f5-83bb-770fe82c33c7",
   "metadata": {},
   "outputs": [
    {
     "data": {
      "text/plain": [
       "[1, 2.5, 'data']"
      ]
     },
     "execution_count": 55,
     "metadata": {},
     "output_type": "execute_result"
    }
   ],
   "source": [
    "l=list(t)\n",
    "l"
   ]
  },
  {
   "cell_type": "code",
   "execution_count": 56,
   "id": "6d2a0857-ee8f-401f-bcd4-fe6d4154157f",
   "metadata": {},
   "outputs": [
    {
     "data": {
      "text/plain": [
       "list"
      ]
     },
     "execution_count": 56,
     "metadata": {},
     "output_type": "execute_result"
    }
   ],
   "source": [
    "type(l)"
   ]
  },
  {
   "cell_type": "code",
   "execution_count": 57,
   "id": "08129ffd-a391-44b2-83b5-54892ad2e893",
   "metadata": {},
   "outputs": [
    {
     "data": {
      "text/plain": [
       "[1, 2.5, 'data', [4, 3]]"
      ]
     },
     "execution_count": 57,
     "metadata": {},
     "output_type": "execute_result"
    }
   ],
   "source": [
    "l.append([4,3])\n",
    "l"
   ]
  },
  {
   "cell_type": "code",
   "execution_count": 58,
   "id": "d74c8b2b-3630-4578-b1ec-d62ad1b1c4cc",
   "metadata": {},
   "outputs": [
    {
     "data": {
      "text/plain": [
       "[1, 2.5, 'data', [4, 3], 4, 3]"
      ]
     },
     "execution_count": 58,
     "metadata": {},
     "output_type": "execute_result"
    }
   ],
   "source": [
    "l.extend([4,3])\n",
    "l"
   ]
  },
  {
   "cell_type": "code",
   "execution_count": 59,
   "id": "aad65048-d3bd-4aa1-a2bd-c76b5faf4027",
   "metadata": {},
   "outputs": [
    {
     "data": {
      "text/plain": [
       "[1, 'insert', 2.5, 'data', [4, 3], 'data', 4, 3]"
      ]
     },
     "execution_count": 59,
     "metadata": {},
     "output_type": "execute_result"
    }
   ],
   "source": [
    "l.insert(1,'insert')\n",
    "l.insert(5,'data')\n",
    "\n",
    "l"
   ]
  },
  {
   "cell_type": "code",
   "execution_count": 60,
   "id": "35424bf8-7634-4c01-baa6-d16b08912d2f",
   "metadata": {},
   "outputs": [
    {
     "data": {
      "text/plain": [
       "[1, 'insert', 2.5, [4, 3], 'data', 4, 3]"
      ]
     },
     "execution_count": 60,
     "metadata": {},
     "output_type": "execute_result"
    }
   ],
   "source": [
    "#remove删除第一次出现的对象\n",
    "l.remove('data')\n",
    "l"
   ]
  },
  {
   "cell_type": "code",
   "execution_count": 61,
   "id": "c6a55fdd-95ad-4289-895c-aca76537e424",
   "metadata": {},
   "outputs": [
    {
     "name": "stdout",
     "output_type": "stream",
     "text": [
      "[1, 'insert', 2.5, 'data', 4, 3] [4, 3]\n"
     ]
    }
   ],
   "source": [
    "p=l.pop(3)\n",
    "print (l,p)"
   ]
  },
  {
   "cell_type": "code",
   "execution_count": 62,
   "id": "72b3e005-348f-4ed2-86da-ffdd7e3bd247",
   "metadata": {},
   "outputs": [],
   "source": [
    "# l[i]=x\n",
    "# l[i:j:k]=x\n",
    "# l.append(x)\n",
    "# l.count(x)\n",
    "# del l[i:j:k]\n",
    "# l.extend (s)\n",
    "# l.index(element,start,end)\n",
    "# l.insert(index,element)\n",
    "# l.remove(element)\n",
    "# l.pop(index)\n",
    "# l.reverse()\n",
    "#  l.sort(key=,reverse=)\n"
   ]
  },
  {
   "cell_type": "code",
   "execution_count": 63,
   "id": "883cc05e-fa07-48ea-8e93-0af61c60bdf7",
   "metadata": {},
   "outputs": [
    {
     "name": "stdout",
     "output_type": "stream",
     "text": [
      "2.5\n",
      "data\n",
      "4\n"
     ]
    }
   ],
   "source": [
    "for e in l[2:5]:\n",
    "    print (e)"
   ]
  },
  {
   "cell_type": "code",
   "execution_count": 64,
   "id": "9582b40f-488c-4bbd-8ceb-2b80372fb772",
   "metadata": {},
   "outputs": [
    {
     "name": "stdout",
     "output_type": "stream",
     "text": [
      "range(0, 8) <class 'range'>\n"
     ]
    }
   ],
   "source": [
    "r=range(0,8,1)\n",
    "print (r,type(r))"
   ]
  },
  {
   "cell_type": "code",
   "execution_count": 65,
   "id": "84149ef1-cd60-4460-b15a-f0db31e26aca",
   "metadata": {},
   "outputs": [
    {
     "name": "stdout",
     "output_type": "stream",
     "text": [
      "1 is odd\n",
      "2 is even\n",
      "3 is multiple\n",
      "4 is even\n",
      "5 is odd\n",
      "6 is even\n",
      "7 is odd\n",
      "8 is even\n",
      "9 is multiple\n"
     ]
    }
   ],
   "source": [
    "for i in range(1,10):\n",
    "    if not i%2:\n",
    "        print('{} is even'.format(i))\n",
    "    elif not i%3:\n",
    "        print('{} is multiple'.format(i))\n",
    "    else:\n",
    "        print('{} is odd'.format(i))\n"
   ]
  },
  {
   "cell_type": "code",
   "execution_count": 66,
   "id": "5479aa74-4c72-4b5d-8258-d53cddbd20c7",
   "metadata": {},
   "outputs": [
    {
     "data": {
      "text/plain": [
       "100"
      ]
     },
     "execution_count": 66,
     "metadata": {},
     "output_type": "execute_result"
    }
   ],
   "source": [
    "total=0 \n",
    "while total<100:\n",
    "    total+=1\n",
    "total"
   ]
  },
  {
   "cell_type": "code",
   "execution_count": 67,
   "id": "d98fafe9-0ebd-4009-8ba2-8924b289b6c2",
   "metadata": {},
   "outputs": [
    {
     "data": {
      "text/plain": [
       "[0, 1, 4, 9, 16]"
      ]
     },
     "execution_count": 67,
     "metadata": {},
     "output_type": "execute_result"
    }
   ],
   "source": [
    "m=[i**2 for i in range(5)]\n",
    "m"
   ]
  },
  {
   "cell_type": "code",
   "execution_count": 68,
   "id": "a0e7a234-0ba0-4bd7-a7fe-1a9f98e058f8",
   "metadata": {},
   "outputs": [
    {
     "data": {
      "text/plain": [
       "4"
      ]
     },
     "execution_count": 68,
     "metadata": {},
     "output_type": "execute_result"
    }
   ],
   "source": [
    "def f(x):\n",
    "    return x**2\n",
    "f(2)"
   ]
  },
  {
   "cell_type": "code",
   "execution_count": 69,
   "id": "5c72b30a-27e2-4995-aa52-8de573e23ee2",
   "metadata": {},
   "outputs": [
    {
     "name": "stdout",
     "output_type": "stream",
     "text": [
      "False\n",
      "True\n"
     ]
    }
   ],
   "source": [
    "def even(x):\n",
    "    return bool(x%2-1)\n",
    "print(even(3))\n",
    "print(even(4))"
   ]
  },
  {
   "cell_type": "code",
   "execution_count": 70,
   "id": "d305d592-b747-445b-aa63-08449376b77b",
   "metadata": {},
   "outputs": [
    {
     "data": {
      "text/plain": [
       "[True, False, True, False, True, False, True, False, True, False]"
      ]
     },
     "execution_count": 70,
     "metadata": {},
     "output_type": "execute_result"
    }
   ],
   "source": [
    "list(map(even,range(10)))"
   ]
  },
  {
   "cell_type": "code",
   "execution_count": 71,
   "id": "a3df1faf-99b6-4a72-b644-d78f5df516cc",
   "metadata": {},
   "outputs": [
    {
     "data": {
      "text/plain": [
       "[0, 1, 4, 9, 16, 25, 36, 49, 64, 81]"
      ]
     },
     "execution_count": 71,
     "metadata": {},
     "output_type": "execute_result"
    }
   ],
   "source": [
    "list(map(lambda x:x**2,range(10)))"
   ]
  },
  {
   "cell_type": "code",
   "execution_count": 72,
   "id": "43560e98-3768-4783-8c24-cc58ddea1d26",
   "metadata": {},
   "outputs": [
    {
     "data": {
      "text/plain": [
       "[0, 2, 4, 6, 8, 10, 12, 14, 16, 18]"
      ]
     },
     "execution_count": 72,
     "metadata": {},
     "output_type": "execute_result"
    }
   ],
   "source": [
    "list(filter(even,range(20)))"
   ]
  },
  {
   "cell_type": "code",
   "execution_count": 73,
   "id": "cb7ca841-0af7-4d35-bb2d-bbf220fe6602",
   "metadata": {},
   "outputs": [
    {
     "name": "stdout",
     "output_type": "stream",
     "text": [
      "<class 'dict'>\n",
      "gjy 64\n",
      "dict_keys(['Name', 'Country', 'Profession', 'Age'])\n",
      "dict_values(['gjy', 'Israel', 'lyj', 64])\n",
      "dict_items([('Name', 'gjy'), ('Country', 'Israel'), ('Profession', 'lyj'), ('Age', 64)])\n",
      "65\n",
      "('Name', 'gjy')\n",
      "('Country', 'Israel')\n",
      "('Profession', 'lyj')\n",
      "('Age', 65)\n",
      "<class 'str'>\n",
      "<class 'str'>\n",
      "<class 'str'>\n",
      "<class 'int'>\n",
      "{'Name': 'gjy', 'Profession': 'lyj', 'Age': 65}\n",
      "{'Name': 'gjy', 'Profession': 'lyj', 'Age': 65}\n",
      "{}\n",
      "False\n",
      "True\n",
      "gjy {'Profession': 'lyj', 'Age': 65}\n",
      "{'Profession': 'sfc', 'Age': 12, 'Name': 'xyx', 'Country': 'USA'}\n"
     ]
    }
   ],
   "source": [
    "d={\n",
    "    'Name':'gjy',\n",
    "    'Country':'Israel',\n",
    "    'Profession':'lyj',\n",
    "    'Age':64\n",
    "}\n",
    "print(type(d))\n",
    "print (d['Name'],d['Age'])\n",
    "print (d.keys())\n",
    "print (d.values())\n",
    "print (d.items())\n",
    "birthday=True\n",
    "if birthday:\n",
    "    d['Age']+=1\n",
    "print (d['Age'])\n",
    "for item in d.items():\n",
    "    print (item)\n",
    "for value in d.values():\n",
    "    print (type(value))\n",
    "del d['Country']\n",
    "print (d)\n",
    "d1=d.copy()\n",
    "print(d1)\n",
    "d.clear()\n",
    "print (d)\n",
    "print('gjy' in d1)\n",
    "print('Name' in d1)\n",
    "x=d1.pop('Name')\n",
    "print (x,d1)\n",
    "d2={\n",
    "    'Name':'xyx',\n",
    "    'Country':'USA',\n",
    "    'Profession':'sfc',\n",
    "    'Age':12\n",
    "}\n",
    "d1.update(d2)\n",
    "print(d1)"
   ]
  },
  {
   "cell_type": "code",
   "execution_count": 74,
   "id": "4c6f43d5-4dd1-44ed-9e78-7b5f4cf27aa5",
   "metadata": {},
   "outputs": [
    {
     "name": "stdout",
     "output_type": "stream",
     "text": [
      "{'du', 'ud', 'd', 'u'}\n",
      "{'u', 'd', 'uu', 'dd'}\n",
      "{'u', 'uu', 'd', 'dd', 'du', 'ud'}\n",
      "{'d', 'u'}\n",
      "{'du', 'ud'}\n",
      "{'uu', 'dd'}\n",
      "{'uu', 'dd', 'du', 'ud'}\n"
     ]
    }
   ],
   "source": [
    "s=set(['u','d','ud','du','d','du'])\n",
    "t=set(['d','dd','uu','u'])\n",
    "print (s)\n",
    "print (t)\n",
    "print (s.union(t))\n",
    "print (s.intersection(t))\n",
    "print (s.difference(t))\n",
    "print (t.difference(s))\n",
    "print (s.symmetric_difference(t))\n"
   ]
  },
  {
   "cell_type": "code",
   "execution_count": 75,
   "id": "f1eace88-eeed-4e56-82e9-19bd3baa7284",
   "metadata": {},
   "outputs": [
    {
     "name": "stdout",
     "output_type": "stream",
     "text": [
      "1000\n",
      "[10, 0, 10, 7, 10, 10, 6, 10, 10, 7, 6, 5, 5, 5, 6, 3, 2, 5, 9, 8]\n",
      "{0, 1, 2, 3, 4, 5, 6, 7, 8, 9, 10}\n"
     ]
    }
   ],
   "source": [
    "from random import randint \n",
    "l=[randint (0,10) for i in range(1000)]\n",
    "print (len(l))\n",
    "print (l[:20])\n",
    "print (set(l))"
   ]
  },
  {
   "cell_type": "code",
   "execution_count": null,
   "id": "33aeffe0-9d38-4e37-9a81-5a61054af550",
   "metadata": {},
   "outputs": [],
   "source": []
  }
 ],
 "metadata": {
  "kernelspec": {
   "display_name": "Python 3 (ipykernel)",
   "language": "python",
   "name": "python3"
  },
  "language_info": {
   "codemirror_mode": {
    "name": "ipython",
    "version": 3
   },
   "file_extension": ".py",
   "mimetype": "text/x-python",
   "name": "python",
   "nbconvert_exporter": "python",
   "pygments_lexer": "ipython3",
   "version": "3.11.7"
  }
 },
 "nbformat": 4,
 "nbformat_minor": 5
}
